{
 "cells": [
  {
   "cell_type": "markdown",
   "metadata": {},
   "source": [
    "On `DNA`, `RNA` and `Protein` sequence molecules, sites can be defined attached to a specific stretch of sequence. Internally, sequence features have the type hierarchy.\n",
    "* `Site -> SequenceFeature -> (PolynucleotideFeature,PolypeptideFeature)`\n",
    "\n",
    "To **create a sequence feature**, call the constructor and add it to a molecule as you would a regular site. Use __`set_location()`__ to specify the location of the feature either using `(start,end)` kwargs or `(start,length)`.\n"
   ]
  },
  {
   "cell_type": "code",
   "execution_count": 1,
   "metadata": {},
   "outputs": [
    {
     "name": "stdout",
     "output_type": "stream",
     "text": [
      "['feat1', 'feat2']\n"
     ]
    }
   ],
   "source": [
    "from wc_rules.bioseq import DNA, PolynucleotideFeature\n",
    "inputstr = 'TTGTTATCGTTACCGGGAGTGAGGCGTCCGCGTCCCTTTCAGGTCAAGCGACTGAAAAACCTTGCAGTTGATTTTAAAGCGTATAGAAGACAATACAGA'\n",
    "\n",
    "dna1 = DNA(ambiguous=False,id='dna1').set_sequence(inputstr)\n",
    "feat1 = PolynucleotideFeature(id='feat1').set_molecule(dna1)\n",
    "feat2 = PolynucleotideFeature(id='feat2').set_molecule(dna1)\n",
    "\n",
    "feat1.set_location(start=90,end=99)\n",
    "feat2.set_location(start=90,length=9)\n",
    "print([x.get_id() for x in dna1.get_sites()])"
   ]
  },
  {
   "cell_type": "markdown",
   "metadata": {},
   "source": [
    "To **get the location of a sequence feature**, use __`get_location()`__. The output is a `dict` with keys `start,end` and `int` values. "
   ]
  },
  {
   "cell_type": "code",
   "execution_count": 2,
   "metadata": {},
   "outputs": [
    {
     "name": "stdout",
     "output_type": "stream",
     "text": [
      "{'start': 90, 'end': 99}\n",
      "{'start': 90, 'end': 99}\n"
     ]
    }
   ],
   "source": [
    "print(feat1.get_location())\n",
    "print(feat2.get_location())"
   ]
  },
  {
   "cell_type": "markdown",
   "metadata": {},
   "source": [
    "Alternatively, the start and end values can be accessed separately using their attribute names or using methods __`get_start()`__ and __`get_end()`__."
   ]
  },
  {
   "cell_type": "code",
   "execution_count": 3,
   "metadata": {},
   "outputs": [
    {
     "name": "stdout",
     "output_type": "stream",
     "text": [
      "[90, 99]\n",
      "[90, 99]\n"
     ]
    }
   ],
   "source": [
    "print([feat1.start,feat1.end])\n",
    "print([feat1.get_start(),feat1.get_end()])"
   ]
  },
  {
   "cell_type": "markdown",
   "metadata": {},
   "source": [
    "To **get the length of a sequence feature**, use __`get_length()`__."
   ]
  },
  {
   "cell_type": "code",
   "execution_count": 4,
   "metadata": {},
   "outputs": [
    {
     "name": "stdout",
     "output_type": "stream",
     "text": [
      "9\n",
      "9\n"
     ]
    }
   ],
   "source": [
    "print(feat1.get_length())\n",
    "print(feat2.get_length())"
   ]
  },
  {
   "cell_type": "markdown",
   "metadata": {},
   "source": [
    "To **read the sequence of a sequence feature**, you have to access it using `get_sequence()` on the parent molecule."
   ]
  },
  {
   "cell_type": "code",
   "execution_count": 5,
   "metadata": {},
   "outputs": [
    {
     "name": "stdout",
     "output_type": "stream",
     "text": [
      "CAATACAGA\n",
      "CAATACAGA\n"
     ]
    }
   ],
   "source": [
    "print(dna1.get_sequence(feat1.start,feat1.end))\n",
    "print(dna1.get_sequence(feat1.get_start(),feat1.get_end()))"
   ]
  },
  {
   "cell_type": "markdown",
   "metadata": {},
   "source": [
    "Alternatively, the `dict` output of `get_location()` can be unpacked and passed to `get_sequence()`."
   ]
  },
  {
   "cell_type": "code",
   "execution_count": 6,
   "metadata": {},
   "outputs": [
    {
     "name": "stdout",
     "output_type": "stream",
     "text": [
      "CAATACAGA\n"
     ]
    }
   ],
   "source": [
    "print(dna1.get_sequence(**feat1.get_location()))"
   ]
  }
 ],
 "metadata": {
  "kernelspec": {
   "display_name": "Python 3",
   "language": "python",
   "name": "python3"
  },
  "language_info": {
   "codemirror_mode": {
    "name": "ipython",
    "version": 3
   },
   "file_extension": ".py",
   "mimetype": "text/x-python",
   "name": "python",
   "nbconvert_exporter": "python",
   "pygments_lexer": "ipython3",
   "version": "3.6.5"
  }
 },
 "nbformat": 4,
 "nbformat_minor": 2
}
