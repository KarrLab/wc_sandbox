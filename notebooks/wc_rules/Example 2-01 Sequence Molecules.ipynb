{
 "cells": [
  {
   "cell_type": "markdown",
   "metadata": {},
   "source": [
    "# Sequence Molecules (DNA, RNA & Protein Sequences)"
   ]
  },
  {
   "cell_type": "markdown",
   "metadata": {},
   "source": [
    "Sequence molecules are derived from `DNA`, `RNA` and `Protein` classes in the `bioseq` module. Internally, their type hierarchies are \n",
    "\n",
    "* `Molecule -> SequenceMolecule -> Polynucleotide -> DNA,RNA`\n",
    "* `Molecule -> SequenceMolecule -> Polypeptide -> Protein`. \n",
    "\n",
    "This allows generic sequence initialization and access methods to be shared between `(DNA, RNA, Protein)`, whereas nucleotide specific methods are shared only between `(DNA,RNA)`.\n",
    "\n",
    "To **create a single strand** of `(DNA, RNA, Protein)`, call the respective constructor. The optional kwarg `ambiguous` can be used to indicate whether to use a strict alphabet (e.g., `GATC`) or a more permissive alphabet by default (e.g., `GATCRYWSMKHBVDN`). \n",
    "\n",
    "For double-stranded molecules, each strand is represented separately as its own molecule."
   ]
  },
  {
   "cell_type": "code",
   "execution_count": 1,
   "metadata": {},
   "outputs": [],
   "source": [
    "from wc_rules.bioseq import DNA, RNA, Protein\n",
    "dna1 = DNA(ambiguous=False)"
   ]
  },
  {
   "cell_type": "markdown",
   "metadata": {},
   "source": [
    "To **attach a sequence to a molecule**, use `set_sequence(inputstr)`."
   ]
  },
  {
   "cell_type": "code",
   "execution_count": 2,
   "metadata": {},
   "outputs": [
    {
     "data": {
      "text/plain": [
       "<wc_rules.bioseq.DNA at 0x1f732f8d400>"
      ]
     },
     "execution_count": 2,
     "metadata": {},
     "output_type": "execute_result"
    }
   ],
   "source": [
    "inputstr = 'TTGTTATCGTTACCGGGAGTGAGGCGTCCGCGTCCCTTTCAGGTCAAGCGACTGAAAAACCTTGCAGTTGATTTTAAAGCGTATAGAAGACAATACAGA'\n",
    "dna1.set_sequence(inputstr)"
   ]
  },
  {
   "cell_type": "markdown",
   "metadata": {},
   "source": [
    "To **read the sequence of a molecule**, use __`get_sequence()`__. "
   ]
  },
  {
   "cell_type": "code",
   "execution_count": 3,
   "metadata": {},
   "outputs": [
    {
     "name": "stdout",
     "output_type": "stream",
     "text": [
      "TTGTTATCGTTACCGGGAGTGAGGCGTCCGCGTCCCTTTCAGGTCAAGCGACTGAAAAACCTTGCAGTTGATTTTAAAGCGTATAGAAGACAATACAGA\n"
     ]
    }
   ],
   "source": [
    "print(dna1.get_sequence())"
   ]
  },
  {
   "cell_type": "markdown",
   "metadata": {},
   "source": [
    "To **get the sequence length**, use __`get_sequence_length()`__."
   ]
  },
  {
   "cell_type": "code",
   "execution_count": 4,
   "metadata": {},
   "outputs": [
    {
     "name": "stdout",
     "output_type": "stream",
     "text": [
      "99\n"
     ]
    }
   ],
   "source": [
    "print(dna1.get_sequence_length())"
   ]
  },
  {
   "cell_type": "markdown",
   "metadata": {},
   "source": [
    "To **read a subsequence** use `get_sequence()` with `(start,end)` or `(start,length)` kwargs. `end` takes priority over `length`. Sequences are indexed like Python strings, i.e., 0 to L-1 for a sequence of L bases. The position L refers to the position _after_ the last base."
   ]
  },
  {
   "cell_type": "code",
   "execution_count": 5,
   "metadata": {},
   "outputs": [
    {
     "name": "stdout",
     "output_type": "stream",
     "text": [
      "CAATACAGA\n",
      "CAATACAGA\n"
     ]
    }
   ],
   "source": [
    "print(dna1.get_sequence(start=90,end=99))\n",
    "print(dna1.get_sequence(90,99))"
   ]
  },
  {
   "cell_type": "code",
   "execution_count": 6,
   "metadata": {},
   "outputs": [
    {
     "name": "stdout",
     "output_type": "stream",
     "text": [
      "CAATACAGA\n",
      "CAATACAGA\n"
     ]
    }
   ],
   "source": [
    "print(dna1.get_sequence(start=90,length=9))\n",
    "print(dna1.get_sequence(90,None,9))"
   ]
  },
  {
   "cell_type": "markdown",
   "metadata": {},
   "source": [
    "`get_sequence_length()` also works for subsequence with `(start,end)` specified."
   ]
  },
  {
   "cell_type": "code",
   "execution_count": 7,
   "metadata": {},
   "outputs": [
    {
     "name": "stdout",
     "output_type": "stream",
     "text": [
      "9\n"
     ]
    }
   ],
   "source": [
    "print(dna1.get_sequence_length(start=90,end=99))"
   ]
  },
  {
   "cell_type": "markdown",
   "metadata": {},
   "source": [
    "`get_sequence()` outputs a `Bio.Seq.Seq` object by default (from Biopython). To get a pure string, use kwarg `as_string=True`. "
   ]
  },
  {
   "cell_type": "code",
   "execution_count": 8,
   "metadata": {},
   "outputs": [
    {
     "name": "stdout",
     "output_type": "stream",
     "text": [
      "<class 'Bio.Seq.Seq'>\n",
      "<class 'str'>\n"
     ]
    }
   ],
   "source": [
    "print(type(dna1.get_sequence()))\n",
    "print(type(dna1.get_sequence(as_string=True)))"
   ]
  }
 ],
 "metadata": {
  "kernelspec": {
   "display_name": "Python 3",
   "language": "python",
   "name": "python3"
  },
  "language_info": {
   "codemirror_mode": {
    "name": "ipython",
    "version": 3
   },
   "file_extension": ".py",
   "mimetype": "text/x-python",
   "name": "python",
   "nbconvert_exporter": "python",
   "pygments_lexer": "ipython3",
   "version": "3.6.5"
  }
 },
 "nbformat": 4,
 "nbformat_minor": 2
}
