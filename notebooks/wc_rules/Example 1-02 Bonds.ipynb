{
 "cells": [
  {
   "cell_type": "markdown",
   "metadata": {},
   "source": [
    "# Bonds"
   ]
  },
  {
   "cell_type": "markdown",
   "metadata": {},
   "source": [
    "In `wc_rules`, complexes are graphs constructed from molecules, sites and bonds. The basic bond `chem2.Bond` has two site targets stored in `targets` attribute. A site may have zero or one bonds."
   ]
  },
  {
   "cell_type": "markdown",
   "metadata": {},
   "source": [
    "First let us create a few molecules with sites. Here each `Rec` molecule has a `LigBinding` and `Dimerize` site and each `Lig` molecule has a `RecBinding` site."
   ]
  },
  {
   "cell_type": "code",
   "execution_count": 1,
   "metadata": {},
   "outputs": [],
   "source": [
    "from wc_rules.chem2 import Molecule,Site,Bond"
   ]
  },
  {
   "cell_type": "code",
   "execution_count": 2,
   "metadata": {},
   "outputs": [],
   "source": [
    "class Rec(Molecule):pass\n",
    "class Lig(Molecule):pass\n",
    "class LigBinding(Site):pass\n",
    "class RecBinding(Site):pass\n",
    "class Dimerize(Site):pass\n",
    "\n",
    "Lig1 = Lig(id = 'Lig1').add_sites(RecBinding(id='rec1'))\n",
    "Lig2 = Lig(id = 'Lig2').add_sites(RecBinding(id='rec2'))\n",
    "Rec1 = Rec(id = 'Rec1').add_sites(LigBinding(id='lig1'),Dimerize(id='dim1'))\n",
    "Rec2 = Rec(id = 'Rec2').add_sites(LigBinding(id='lig2'),Dimerize(id='dim2'))"
   ]
  },
  {
   "cell_type": "markdown",
   "metadata": {},
   "source": [
    "To __create a bond__, call the bond constructor and use __`add_targets(*args)`__. Let us create a bond between the `rec1` site on `Lig1` and the `lig1` site on `Rec1`. Here, we do not have Python variables assigned to those sites so we need to `get` them first by filtering the results of `get_sites()` on each molecule."
   ]
  },
  {
   "cell_type": "code",
   "execution_count": 3,
   "metadata": {},
   "outputs": [],
   "source": [
    "rec1 = Lig1.get_sites(id='rec1')[0]\n",
    "lig1 = Rec1.get_sites(id='lig1')[0]\n",
    "bnd1 = Bond(id='bnd1').add_targets(rec1,lig1)"
   ]
  },
  {
   "cell_type": "markdown",
   "metadata": {},
   "source": [
    "To **access a bond's targets**, use __`get_targets()`__. "
   ]
  },
  {
   "cell_type": "code",
   "execution_count": 4,
   "metadata": {},
   "outputs": [
    {
     "name": "stdout",
     "output_type": "stream",
     "text": [
      "['rec1', 'lig1']\n"
     ]
    }
   ],
   "source": [
    "print([x.get_id() for x in bnd1.get_targets()])"
   ]
  },
  {
   "cell_type": "markdown",
   "metadata": {},
   "source": [
    "To **access a site's bond**, use __`get_bond()`__."
   ]
  },
  {
   "cell_type": "code",
   "execution_count": 5,
   "metadata": {},
   "outputs": [
    {
     "name": "stdout",
     "output_type": "stream",
     "text": [
      "bnd1\n",
      "bnd1\n"
     ]
    }
   ],
   "source": [
    "print(rec1.get_bond().get_id())\n",
    "print(lig1.get_bond().get_id())"
   ]
  },
  {
   "cell_type": "markdown",
   "metadata": {},
   "source": [
    "A complex is created by linking sites on molecules with bonds. Here, let us create a doubly ligated receptor dimer complex, which has the topology `Lig1--Rec1--Rec2--Lig2`. There are 3 bonds in all linking the respective sites."
   ]
  },
  {
   "cell_type": "code",
   "execution_count": 6,
   "metadata": {},
   "outputs": [
    {
     "name": "stdout",
     "output_type": "stream",
     "text": [
      "['bnd1', 'rec1', 'lig1']\n",
      "['bnd2', 'rec2', 'lig2']\n",
      "['bnd3', 'dim1', 'dim2']\n"
     ]
    }
   ],
   "source": [
    "rec2 = Lig2.get_sites(id='rec2')[0]\n",
    "lig2 = Rec2.get_sites(id='lig2')[0]\n",
    "bnd2 = Bond(id='bnd2').add_targets(rec2,lig2)\n",
    "\n",
    "dim1 = Rec1.get_sites(id='dim1')[0]\n",
    "dim2 = Rec2.get_sites(id='dim2')[0]\n",
    "bnd3 = Bond(id='bnd3').add_targets(dim1,dim2)\n",
    "\n",
    "for bnd in [bnd1,bnd2,bnd3]:\n",
    "    print([bnd.get_id()] + [x.get_id() for x in bnd.get_targets()])"
   ]
  },
  {
   "cell_type": "markdown",
   "metadata": {},
   "source": [
    "The basic `Bond` only has two site targets. However, one can subclass `Bond` and reset the `n_max_targets` attribute to **create different types of bonds** that involve multiple sites. Below, we create a `TetramerBond` relation that can have a maximum of four sites as targets. "
   ]
  },
  {
   "cell_type": "code",
   "execution_count": 7,
   "metadata": {},
   "outputs": [],
   "source": [
    "class TetramerBond(Bond):\n",
    "    n_max_targets = 4"
   ]
  },
  {
   "cell_type": "markdown",
   "metadata": {},
   "source": [
    "Adding targets more than the allowed `n_max_targets` will trigger an exception during verification."
   ]
  },
  {
   "cell_type": "code",
   "execution_count": 8,
   "metadata": {},
   "outputs": [
    {
     "name": "stdout",
     "output_type": "stream",
     "text": [
      "Not allowed.\n",
      "Allowed.\n"
     ]
    }
   ],
   "source": [
    "b1 = Bond().add_targets(Site(),Site(),Site())\n",
    "b2 = TetramerBond().add_targets(Site(),Site(),Site())\n",
    "for x in [b1,b2]: \n",
    "    try:\n",
    "        x.verify_maximum_targets()\n",
    "        print('Allowed.')\n",
    "    except:\n",
    "        print('Not allowed.')"
   ]
  },
  {
   "cell_type": "markdown",
   "metadata": {},
   "source": [
    "However, sites themselves can have only one instance of `Bond` or any of its subclasses."
   ]
  },
  {
   "cell_type": "code",
   "execution_count": 9,
   "metadata": {},
   "outputs": [
    {
     "name": "stdout",
     "output_type": "stream",
     "text": [
      "Not allowed.\n"
     ]
    }
   ],
   "source": [
    "s1 = Site()\n",
    "b1 = Bond().add_targets(s1)\n",
    "b2 = Bond().add_targets(s1)\n",
    "try:\n",
    "    s1.verify_maximum_allowed_relations_as_a_target()\n",
    "    print('Allowed.')\n",
    "except:\n",
    "    print('Not allowed.')"
   ]
  },
  {
   "cell_type": "markdown",
   "metadata": {},
   "source": [
    "To **disallow a site type from binding**, one can set the `allowed_to_bind` attribute during subclassing. "
   ]
  },
  {
   "cell_type": "code",
   "execution_count": 10,
   "metadata": {},
   "outputs": [
    {
     "name": "stdout",
     "output_type": "stream",
     "text": [
      "Allowed.\n",
      "Not allowed.\n"
     ]
    }
   ],
   "source": [
    "class Site1(Site):\n",
    "    pass\n",
    "class Site2(Site):\n",
    "    allowed_to_bind = False\n",
    "    \n",
    "x1 = Site1()\n",
    "x2 = Site2()\n",
    "bnd = Bond().add_targets(x1,x2)\n",
    "for site in [x1,x2]:\n",
    "    try:\n",
    "        site.verify_allowed_to_bind()\n",
    "        print('Allowed.')\n",
    "    except:\n",
    "        print('Not allowed.')"
   ]
  },
  {
   "cell_type": "code",
   "execution_count": null,
   "metadata": {},
   "outputs": [],
   "source": []
  }
 ],
 "metadata": {
  "kernelspec": {
   "display_name": "Python 3",
   "language": "python",
   "name": "python3"
  },
  "language_info": {
   "codemirror_mode": {
    "name": "ipython",
    "version": 3
   },
   "file_extension": ".py",
   "mimetype": "text/x-python",
   "name": "python",
   "nbconvert_exporter": "python",
   "pygments_lexer": "ipython3",
   "version": "3.6.5"
  }
 },
 "nbformat": 4,
 "nbformat_minor": 2
}
