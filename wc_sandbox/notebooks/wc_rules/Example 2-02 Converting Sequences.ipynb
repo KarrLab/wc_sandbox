{
 "cells": [
  {
   "cell_type": "markdown",
   "metadata": {},
   "source": [
    "To convert between DNA, RNA and protein sequences, the `DNA` and `RNA` molecules provide the methods \n",
    "\n",
    "* __`get_dna()`__\n",
    "* __`get_rna()`__ \n",
    "* __`get_protein()`__. \n",
    "\n",
    "These methods use the `option` kwarg to define which sequence is to be converted: \n",
    "* `option='coding'`, use sequence directly read from strand (default)\n",
    "* `option='complementary'`, use the complement of the coding sequence\n",
    "* `option='reverse_complementary'`, use the reverse complement of the coding sequence"
   ]
  },
  {
   "cell_type": "markdown",
   "metadata": {},
   "source": [
    "Below we show an example of `get_dna()` method applied in three different modes to a `DNA` sequence molecule. "
   ]
  },
  {
   "cell_type": "code",
   "execution_count": 1,
   "metadata": {},
   "outputs": [
    {
     "name": "stdout",
     "output_type": "stream",
     "text": [
      "1: TTGTTATCGTTACCGGGAGTGAGGCGTCCGCGTCCCTTTCAGGTCAAGCGACTGAAAAACCTTGCAGTTGATTTTAAAGCGTATAGAAGACAATACAGA\n",
      "2: TTGTTATCGTTACCGGGAGTGAGGCGTCCGCGTCCCTTTCAGGTCAAGCGACTGAAAAACCTTGCAGTTGATTTTAAAGCGTATAGAAGACAATACAGA\n",
      "3: AACAATAGCAATGGCCCTCACTCCGCAGGCGCAGGGAAAGTCCAGTTCGCTGACTTTTTGGAACGTCAACTAAAATTTCGCATATCTTCTGTTATGTCT\n",
      "4: TCTGTATTGTCTTCTATACGCTTTAAAATCAACTGCAAGGTTTTTCAGTCGCTTGACCTGAAAGGGACGCGGACGCCTCACTCCCGGTAACGATAACAA\n"
     ]
    }
   ],
   "source": [
    "from wc_rules.bioseq import DNA, RNA, Protein\n",
    "inputstr = 'TTGTTATCGTTACCGGGAGTGAGGCGTCCGCGTCCCTTTCAGGTCAAGCGACTGAAAAACCTTGCAGTTGATTTTAAAGCGTATAGAAGACAATACAGA'\n",
    "\n",
    "dna1 = DNA(ambiguous=False).set_sequence(inputstr)\n",
    "print('1: '+ dna1.get_sequence(as_string=True))\n",
    "print('2: '+ dna1.get_dna(option='coding',as_string=True))\n",
    "print('3: '+ dna1.get_dna(option='complementary',as_string=True))\n",
    "print('4: '+ dna1.get_dna(option='reverse_complementary',as_string=True))"
   ]
  },
  {
   "cell_type": "markdown",
   "metadata": {},
   "source": [
    "Similar to `get_sequence()`, the methods `get_dna()`, `get_rna()` and `get_protein()` can operate on subsequences defined by (`start`,`end`) or (`start`,`length`). \n",
    "\n",
    "For example, to get the reverse-complementary RNA coded in the first 66 bases of `dna1` and instantiate a new `RNA` molecule, do"
   ]
  },
  {
   "cell_type": "code",
   "execution_count": 2,
   "metadata": {},
   "outputs": [
    {
     "name": "stdout",
     "output_type": "stream",
     "text": [
      "UGCAAGGUUUUUCAGUCGCUUGACCUGAAAGGGACGCGGACGCCUCACUCCCGGUAACGAUAACAA\n"
     ]
    }
   ],
   "source": [
    "seq = dna1.get_rna(option='reverse_complementary',start=0,length=66,as_string=True)\n",
    "rna1 = RNA().set_sequence(seq)\n",
    "print(rna1.get_sequence())"
   ]
  },
  {
   "cell_type": "markdown",
   "metadata": {},
   "source": [
    "To get the protein sequence coded in the first 66 bases of `dna1` and instantiate a new `Protein` molecule, do"
   ]
  },
  {
   "cell_type": "code",
   "execution_count": 3,
   "metadata": {},
   "outputs": [
    {
     "name": "stdout",
     "output_type": "stream",
     "text": [
      "LLSLPGVRRPRPFQVKRLKNLA\n"
     ]
    }
   ],
   "source": [
    "seq = dna1.get_protein(option='coding',start=0,length=66,as_string=True)\n",
    "prot1 = Protein().set_sequence(seq)\n",
    "print(prot1.get_sequence())"
   ]
  }
 ],
 "metadata": {
  "kernelspec": {
   "display_name": "Python 3",
   "language": "python",
   "name": "python3"
  },
  "language_info": {
   "codemirror_mode": {
    "name": "ipython",
    "version": 3
   },
   "file_extension": ".py",
   "mimetype": "text/x-python",
   "name": "python",
   "nbconvert_exporter": "python",
   "pygments_lexer": "ipython3",
   "version": "3.6.5"
  }
 },
 "nbformat": 4,
 "nbformat_minor": 2
}
