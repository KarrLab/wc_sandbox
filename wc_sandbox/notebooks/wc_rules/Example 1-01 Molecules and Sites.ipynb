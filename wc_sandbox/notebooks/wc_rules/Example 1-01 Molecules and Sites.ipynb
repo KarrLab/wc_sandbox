{
 "cells": [
  {
   "cell_type": "markdown",
   "metadata": {},
   "source": [
    "# Molecules and Sites"
   ]
  },
  {
   "cell_type": "markdown",
   "metadata": {},
   "source": [
    "In `wc_rules`, the basic building blocks are molecules and sites."
   ]
  },
  {
   "cell_type": "code",
   "execution_count": 1,
   "metadata": {},
   "outputs": [],
   "source": [
    "from wc_rules.chem2 import Molecule,Site"
   ]
  },
  {
   "cell_type": "markdown",
   "metadata": {},
   "source": [
    "To **define types of molecules and sites**, subclass them from `chem2.Molecule` and `chem2.Site` respectively. Additional subclassing is allowed, so each molecule/site type is actually a class hierarchy. Below we create the molecule hierarchy `Molecule -> Receptor -> EGFR`"
   ]
  },
  {
   "cell_type": "code",
   "execution_count": 2,
   "metadata": {},
   "outputs": [],
   "source": [
    "class Receptor(Molecule):pass\n",
    "class EGFR(Receptor):pass"
   ]
  },
  {
   "cell_type": "markdown",
   "metadata": {},
   "source": [
    "Similarly, from `Site`, we create 4 different types of sites."
   ]
  },
  {
   "cell_type": "code",
   "execution_count": 3,
   "metadata": {},
   "outputs": [],
   "source": [
    "class LigandBindingSite(Site):pass\n",
    "class DimerizationSite(Site):pass\n",
    "class TyrosineMotif(Site):pass"
   ]
  },
  {
   "cell_type": "markdown",
   "metadata": {},
   "source": [
    "To **create instances of molecules and sites**, simply call their constructors, optionally with an `id` attribute. "
   ]
  },
  {
   "cell_type": "code",
   "execution_count": 4,
   "metadata": {},
   "outputs": [
    {
     "name": "stdout",
     "output_type": "stream",
     "text": [
      "<__main__.EGFR: R1>\n"
     ]
    }
   ],
   "source": [
    "# Creating receptor molecules\n",
    "R1 = EGFR()\n",
    "R1 = EGFR(id='R1')\n",
    "print(R1)"
   ]
  },
  {
   "cell_type": "markdown",
   "metadata": {},
   "source": [
    "We recommend using **`set_id(id)`** and **`get_id()`** for `id` attribute."
   ]
  },
  {
   "cell_type": "code",
   "execution_count": 5,
   "metadata": {},
   "outputs": [
    {
     "name": "stdout",
     "output_type": "stream",
     "text": [
      "R1\n"
     ]
    }
   ],
   "source": [
    "R1 = EGFR().set_id('R1')\n",
    "print(R1.get_id())"
   ]
  },
  {
   "cell_type": "markdown",
   "metadata": {},
   "source": [
    "Instances can **type-checked** against any superclass."
   ]
  },
  {
   "cell_type": "code",
   "execution_count": 6,
   "metadata": {},
   "outputs": [
    {
     "name": "stdout",
     "output_type": "stream",
     "text": [
      "True\n"
     ]
    }
   ],
   "source": [
    "check01 = isinstance(R1,EGFR)\n",
    "check02 = isinstance(R1,Receptor)\n",
    "check03 = isinstance(R1,Molecule)\n",
    "print(check01 and check02 and check03)"
   ]
  },
  {
   "cell_type": "markdown",
   "metadata": {},
   "source": [
    "Here, we create one instance each of `LigandBindingSite` and `DimerizationSite` and two instances of `TyrosineMotif`."
   ]
  },
  {
   "cell_type": "code",
   "execution_count": 7,
   "metadata": {},
   "outputs": [],
   "source": [
    "# Creating sites\n",
    "L = LigandBindingSite().set_id('L')\n",
    "D = DimerizationSite().set_id('D')\n",
    "Y1 = TyrosineMotif().set_id('Y1')\n",
    "Y2 = TyrosineMotif().set_id('Y2')"
   ]
  },
  {
   "cell_type": "markdown",
   "metadata": {},
   "source": [
    "A molecule may have multiple sites (stored as a list on `sites` attribute), but a site may have only one molecule (stored as a reference on `molecule` attribute). To **attach sites to molecules**, one may equivalently use **`add_sites(*args)`** or **`set_molecule(arg)`** on the respective instances. Here we add the site instances `L,D,Y1,Y2` to the molecule instance `R1`."
   ]
  },
  {
   "cell_type": "code",
   "execution_count": 8,
   "metadata": {},
   "outputs": [
    {
     "name": "stdout",
     "output_type": "stream",
     "text": [
      "['L', 'D', 'Y1', 'Y2']\n",
      "['R1', 'R1', 'R1', 'R1']\n"
     ]
    }
   ],
   "source": [
    "# Assigning sites to a molecule\n",
    "R1.add_sites(L,D)\n",
    "Y1.set_molecule(R1)\n",
    "Y2.set_molecule(R1)\n",
    "\n",
    "print([x.get_id() for x in R1.sites])\n",
    "print([x.molecule.get_id() for x in [L,D,Y1,Y2]])"
   ]
  },
  {
   "cell_type": "markdown",
   "metadata": {},
   "source": [
    "Similarly, to **detach sites from molecules**, one may equivalently use **`remove_sites(*args)`** or **`unset_molecule()`** on the respective instances."
   ]
  },
  {
   "cell_type": "code",
   "execution_count": 9,
   "metadata": {},
   "outputs": [
    {
     "name": "stdout",
     "output_type": "stream",
     "text": [
      "[]\n"
     ]
    }
   ],
   "source": [
    "R1.remove_sites(L,D)\n",
    "Y1.unset_molecule()\n",
    "Y2.unset_molecule()\n",
    "\n",
    "print(R1.sites)"
   ]
  },
  {
   "cell_type": "markdown",
   "metadata": {},
   "source": [
    "To simultaneously create the molecule instance, all 4 site instances and assign the sites to the molecule, one can do:"
   ]
  },
  {
   "cell_type": "code",
   "execution_count": 10,
   "metadata": {},
   "outputs": [
    {
     "name": "stdout",
     "output_type": "stream",
     "text": [
      "['L', 'D', 'Y1', 'Y2']\n"
     ]
    }
   ],
   "source": [
    "R1 = EGFR(id='R1').add_sites(\n",
    "    LigandBindingSite(id='L'),\n",
    "    DimerizationSite(id='D'),\n",
    "    TyrosineMotif(id='Y1'),\n",
    "    TyrosineMotif(id='Y2')\n",
    ")\n",
    "\n",
    "print([x.get_id() for x in R1.sites])"
   ]
  },
  {
   "cell_type": "markdown",
   "metadata": {},
   "source": [
    "To **access the sites on a molecule**, we recommend using __`get_sites(**kwargs)`__, which allows filtering the results based on scalar attribute or class types. To access a site's molecule, use **`get_molecule()`**."
   ]
  },
  {
   "cell_type": "code",
   "execution_count": 11,
   "metadata": {
    "scrolled": true
   },
   "outputs": [
    {
     "name": "stdout",
     "output_type": "stream",
     "text": [
      "['L', 'D', 'Y1', 'Y2']\n",
      "['R1', 'R1', 'R1', 'R1']\n",
      "['Y1', 'Y2']\n",
      "['L']\n",
      "['Y2']\n"
     ]
    }
   ],
   "source": [
    "site_list = R1.get_sites()\n",
    "print([x.get_id() for x in site_list])\n",
    "print([x.get_molecule().get_id() for x in site_list])\n",
    "\n",
    "site_list = R1.get_sites(site_type=TyrosineMotif)\n",
    "print([x.get_id() for x in site_list])\n",
    "     \n",
    "site_list = R1.get_sites(site_type=LigandBindingSite)\n",
    "print([x.get_id() for x in site_list])\n",
    "     \n",
    "site_list = R1.get_sites(site_type=TyrosineMotif,id='Y2')\n",
    "print([x.get_id() for x in site_list])"
   ]
  }
 ],
 "metadata": {
  "kernelspec": {
   "display_name": "Python 3",
   "language": "python",
   "name": "python3"
  },
  "language_info": {
   "codemirror_mode": {
    "name": "ipython",
    "version": 3
   },
   "file_extension": ".py",
   "mimetype": "text/x-python",
   "name": "python",
   "nbconvert_exporter": "python",
   "pygments_lexer": "ipython3",
   "version": "3.6.5"
  }
 },
 "nbformat": 4,
 "nbformat_minor": 2
}
